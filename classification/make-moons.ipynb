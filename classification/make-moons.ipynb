{
 "cells": [
  {
   "cell_type": "markdown",
   "source": [
    "# Make Moons Classification"
   ],
   "metadata": {
    "collapsed": false,
    "pycharm": {
     "name": "#%% md\n"
    }
   }
  },
  {
   "cell_type": "markdown",
   "source": [
    "## Load Dataset"
   ],
   "metadata": {
    "collapsed": false,
    "pycharm": {
     "name": "#%% md\n"
    }
   }
  },
  {
   "cell_type": "code",
   "execution_count": 1,
   "outputs": [],
   "source": [
    "from sklearn.datasets import make_moons\n",
    "\n",
    "X, y = make_moons(n_samples=100, noise=0.25, random_state=3)"
   ],
   "metadata": {
    "collapsed": false,
    "pycharm": {
     "name": "#%%\n"
    }
   }
  },
  {
   "cell_type": "code",
   "execution_count": 2,
   "metadata": {
    "collapsed": true,
    "pycharm": {
     "name": "#%%\n"
    }
   },
   "outputs": [
    {
     "name": "stdout",
     "output_type": "stream",
     "text": [
      "X shape: (100, 2)\n",
      "y shape: (100,)\n"
     ]
    }
   ],
   "source": [
    "print(\"X shape:\", X.shape)\n",
    "print(\"y shape:\", y.shape)"
   ]
  },
  {
   "cell_type": "code",
   "execution_count": 3,
   "outputs": [
    {
     "data": {
      "text/plain": "array([[ 1.87756309,  0.56839425],\n       [ 0.36877983, -0.34894509],\n       [ 0.96515318,  0.10921819],\n       [ 0.48599685,  0.20291313],\n       [ 1.72532644,  0.53367598]])"
     },
     "execution_count": 3,
     "metadata": {},
     "output_type": "execute_result"
    }
   ],
   "source": [
    "X[:5]"
   ],
   "metadata": {
    "collapsed": false,
    "pycharm": {
     "name": "#%%\n"
    }
   }
  },
  {
   "cell_type": "markdown",
   "source": [
    "## Split Dataset into Train and Test"
   ],
   "metadata": {
    "collapsed": false,
    "pycharm": {
     "name": "#%% md\n"
    }
   }
  },
  {
   "cell_type": "code",
   "execution_count": 4,
   "outputs": [],
   "source": [
    "from sklearn.model_selection import train_test_split\n",
    "\n",
    "X_train, X_test, y_train, y_test = train_test_split(X, y, stratify=y, random_state=42)"
   ],
   "metadata": {
    "collapsed": false,
    "pycharm": {
     "name": "#%%\n"
    }
   }
  },
  {
   "cell_type": "markdown",
   "source": [
    "## Train and Evaluate Model"
   ],
   "metadata": {
    "collapsed": false,
    "pycharm": {
     "name": "#%% md\n"
    }
   }
  },
  {
   "cell_type": "markdown",
   "source": [
    "### Random Forest"
   ],
   "metadata": {
    "collapsed": false,
    "pycharm": {
     "name": "#%% md\n"
    }
   }
  },
  {
   "cell_type": "code",
   "execution_count": 5,
   "outputs": [
    {
     "name": "stdout",
     "output_type": "stream",
     "text": [
      "Test set score: 0.920\n",
      "Train set score: 0.960\n"
     ]
    }
   ],
   "source": [
    "from sklearn.ensemble import RandomForestClassifier\n",
    "\n",
    "random_forest_model = RandomForestClassifier(n_estimators=5, random_state=2)\n",
    "random_forest_model.fit(X_train, y_train)\n",
    "\n",
    "print(\"Test set score: {:.3f}\".format(random_forest_model.score(X_test, y_test)))\n",
    "print(\"Train set score: {:.3f}\".format(random_forest_model.score(X_train, y_train)))"
   ],
   "metadata": {
    "collapsed": false,
    "pycharm": {
     "name": "#%%\n"
    }
   }
  },
  {
   "cell_type": "markdown",
   "source": [
    "### Multilation Perceptron (MLP)"
   ],
   "metadata": {
    "collapsed": false,
    "pycharm": {
     "name": "#%% md\n"
    }
   }
  },
  {
   "cell_type": "code",
   "execution_count": 6,
   "outputs": [
    {
     "name": "stdout",
     "output_type": "stream",
     "text": [
      "Test set score: 0.880\n",
      "Train set score: 1.000\n"
     ]
    }
   ],
   "source": [
    "from sklearn.neural_network import MLPClassifier\n",
    "\n",
    "mlp_model = MLPClassifier(solver=\"lbfgs\", hidden_layer_sizes=(100,), random_state=0)\n",
    "mlp_model.fit(X_train, y_train)\n",
    "\n",
    "print(\"Test set score: {:.3f}\".format(mlp_model.score(X_test, y_test)))\n",
    "print(\"Train set score: {:.3f}\".format(mlp_model.score(X_train, y_train)))"
   ],
   "metadata": {
    "collapsed": false,
    "pycharm": {
     "name": "#%%\n"
    }
   }
  },
  {
   "cell_type": "code",
   "execution_count": 7,
   "outputs": [
    {
     "data": {
      "text/plain": "<Figure size 432x288 with 1 Axes>",
      "image/png": "[encoded data removed]"
     },
     "metadata": {},
     "output_type": "display_data"
    }
   ],
   "source": [
    "# Visualization\n",
    "import mglearn\n",
    "from matplotlib import pyplot as plt\n",
    "\n",
    "\n",
    "def visualize_plot_2d_seperator(model):\n",
    "    mglearn.plots.plot_2d_separator(model, X_train, fill=True, alpha=.3)\n",
    "    mglearn.discrete_scatter(X_train[:, 0], X_train[:, 1], y_train)\n",
    "    plt.xlabel(\"Feature 0\")\n",
    "    plt.ylabel(\"Feature 1\")\n",
    "    plt.show()\n",
    "\n",
    "\n",
    "visualize_plot_2d_seperator(mlp_model)"
   ],
   "metadata": {
    "collapsed": false,
    "pycharm": {
     "name": "#%%\n"
    }
   }
  },
  {
   "cell_type": "code",
   "execution_count": 8,
   "outputs": [
    {
     "name": "stdout",
     "output_type": "stream",
     "text": [
      "Test set score: 0.880\n",
      "Train set score: 0.987\n"
     ]
    }
   ],
   "source": [
    "mlp_model_layer10 = MLPClassifier(solver=\"lbfgs\", hidden_layer_sizes=(10,), max_iter=1000, random_state=0)\n",
    "mlp_model_layer10.fit(X_train, y_train)\n",
    "\n",
    "print(\"Test set score: {:.3f}\".format(mlp_model_layer10.score(X_test, y_test)))\n",
    "print(\"Train set score: {:.3f}\".format(mlp_model_layer10.score(X_train, y_train)))"
   ],
   "metadata": {
    "collapsed": false,
    "pycharm": {
     "name": "#%%\n"
    }
   }
  },
  {
   "cell_type": "code",
   "execution_count": 9,
   "outputs": [
    {
     "data": {
      "text/plain": "<Figure size 432x288 with 1 Axes>",
      "image/png": "[encoded data removed]"
     },
     "metadata": {},
     "output_type": "display_data"
    }
   ],
   "source": [
    "# Visualization\n",
    "visualize_plot_2d_seperator(mlp_model_layer10)"
   ],
   "metadata": {
    "collapsed": false,
    "pycharm": {
     "name": "#%%\n"
    }
   }
  },
  {
   "cell_type": "code",
   "execution_count": 10,
   "outputs": [
    {
     "name": "stdout",
     "output_type": "stream",
     "text": [
      "Test set score: 0.840\n",
      "Train set score: 0.987\n"
     ]
    }
   ],
   "source": [
    "mlp_model_layer10x10 = MLPClassifier(solver=\"lbfgs\", hidden_layer_sizes=(10, 10), max_iter=1000, random_state=0)\n",
    "mlp_model_layer10x10.fit(X_train, y_train)\n",
    "\n",
    "print(\"Test set score: {:.3f}\".format(mlp_model_layer10x10.score(X_test, y_test)))\n",
    "print(\"Train set score: {:.3f}\".format(mlp_model_layer10x10.score(X_train, y_train)))"
   ],
   "metadata": {
    "collapsed": false,
    "pycharm": {
     "name": "#%%\n"
    }
   }
  },
  {
   "cell_type": "code",
   "execution_count": 11,
   "outputs": [
    {
     "data": {
      "text/plain": "<Figure size 432x288 with 1 Axes>",
      "image/png": "[encoded data removed]"
     },
     "metadata": {},
     "output_type": "display_data"
    }
   ],
   "source": [
    "# Visualization\n",
    "visualize_plot_2d_seperator(mlp_model_layer10x10)"
   ],
   "metadata": {
    "collapsed": false,
    "pycharm": {
     "name": "#%%\n"
    }
   }
  },
  {
   "cell_type": "code",
   "execution_count": 12,
   "outputs": [
    {
     "name": "stdout",
     "output_type": "stream",
     "text": [
      "Test set score: 0.840\n",
      "Train set score: 1.000\n"
     ]
    }
   ],
   "source": [
    "mlp_model_tanh_layer10x10 = MLPClassifier(solver=\"lbfgs\", activation=\"tanh\", hidden_layer_sizes=(10, 10), max_iter=1000,\n",
    "                                          random_state=0)\n",
    "mlp_model_tanh_layer10x10.fit(X_train, y_train)\n",
    "\n",
    "print(\"Test set score: {:.3f}\".format(mlp_model_tanh_layer10x10.score(X_test, y_test)))\n",
    "print(\"Train set score: {:.3f}\".format(mlp_model_tanh_layer10x10.score(X_train, y_train)))"
   ],
   "metadata": {
    "collapsed": false,
    "pycharm": {
     "name": "#%%\n"
    }
   }
  },
  {
   "cell_type": "code",
   "execution_count": 13,
   "outputs": [
    {
     "data": {
      "text/plain": "<Figure size 432x288 with 1 Axes>",
      "image/png": "[encoded data removed]"
     },
     "metadata": {},
     "output_type": "display_data"
    }
   ],
   "source": [
    "# Visualization\n",
    "visualize_plot_2d_seperator(mlp_model_tanh_layer10x10)"
   ],
   "metadata": {
    "collapsed": false,
    "pycharm": {
     "name": "#%%\n"
    }
   }
  }
 ],
 "metadata": {
  "kernelspec": {
   "display_name": "Python 3",
   "language": "python",
   "name": "python3"
  },
  "language_info": {
   "codemirror_mode": {
    "name": "ipython",
    "version": 2
   },
   "file_extension": ".py",
   "mimetype": "text/x-python",
   "name": "python",
   "nbconvert_exporter": "python",
   "pygments_lexer": "ipython2",
   "version": "2.7.6"
  }
 },
 "nbformat": 4,
 "nbformat_minor": 0
}