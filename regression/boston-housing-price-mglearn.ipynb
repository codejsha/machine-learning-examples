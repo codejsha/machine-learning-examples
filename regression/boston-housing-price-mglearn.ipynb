{
 "cells": [
  {
   "cell_type": "markdown",
   "source": [
    "# Boston Housing Price Regression (mglearn)"
   ],
   "metadata": {
    "collapsed": false,
    "pycharm": {
     "name": "#%% md\n"
    }
   }
  },
  {
   "cell_type": "markdown",
   "source": [
    "## Load Dataset"
   ],
   "metadata": {
    "collapsed": false,
    "pycharm": {
     "name": "#%% md\n"
    }
   }
  },
  {
   "cell_type": "code",
   "execution_count": 13,
   "outputs": [
    {
     "name": "stderr",
     "output_type": "stream",
     "text": [
      "C:\\Users\\memor\\tools\\miniconda3\\lib\\site-packages\\sklearn\\utils\\deprecation.py:87: FutureWarning: Function load_boston is deprecated; `load_boston` is deprecated in 1.0 and will be removed in 1.2.\n",
      "\n",
      "    The Boston housing prices dataset has an ethical problem. You can refer to\n",
      "    the documentation of this function for further details.\n",
      "\n",
      "    The scikit-learn maintainers therefore strongly discourage the use of this\n",
      "    dataset unless the purpose of the code is to study and educate about\n",
      "    ethical issues in data science and machine learning.\n",
      "\n",
      "    In this special case, you can fetch the dataset from the original\n",
      "    source::\n",
      "\n",
      "        import pandas as pd\n",
      "        import numpy as np\n",
      "\n",
      "        data_url = \"http://lib.stat.cmu.edu/datasets/boston\"\n",
      "        raw_df = pd.read_csv(data_url, sep=\"\\s+\", skiprows=22, header=None)\n",
      "        data = np.hstack([raw_df.values[::2, :], raw_df.values[1::2, :2]])\n",
      "        target = raw_df.values[1::2, 2]\n",
      "\n",
      "    Alternative datasets include the California housing dataset (i.e.\n",
      "    :func:`~sklearn.datasets.fetch_california_housing`) and the Ames housing\n",
      "    dataset. You can load the datasets as follows::\n",
      "\n",
      "        from sklearn.datasets import fetch_california_housing\n",
      "        housing = fetch_california_housing()\n",
      "\n",
      "    for the California housing dataset and::\n",
      "\n",
      "        from sklearn.datasets import fetch_openml\n",
      "        housing = fetch_openml(name=\"house_prices\", as_frame=True)\n",
      "\n",
      "    for the Ames housing dataset.\n",
      "  warnings.warn(msg, category=FutureWarning)\n"
     ]
    }
   ],
   "source": [
    "import mglearn\n",
    "\n",
    "X, y = mglearn.datasets.load_extended_boston()"
   ],
   "metadata": {
    "collapsed": false,
    "pycharm": {
     "name": "#%%\n"
    }
   }
  },
  {
   "cell_type": "code",
   "execution_count": 14,
   "outputs": [
    {
     "name": "stdout",
     "output_type": "stream",
     "text": [
      "X shape: (506, 104)\n",
      "y shape: (506,)\n"
     ]
    }
   ],
   "source": [
    "print(\"X shape:\", X.shape)\n",
    "print(\"y shape:\", y.shape)"
   ],
   "metadata": {
    "collapsed": false,
    "pycharm": {
     "name": "#%%\n"
    }
   }
  },
  {
   "cell_type": "code",
   "execution_count": 15,
   "outputs": [
    {
     "data": {
      "text/plain": "array([[0.00000000e+00, 1.80000000e-01, 6.78152493e-02, 0.00000000e+00,\n        3.14814815e-01, 5.77505269e-01, 6.41606591e-01, 2.69203139e-01,\n        0.00000000e+00, 2.08015267e-01, 2.87234043e-01, 1.00000000e+00,\n        8.96799117e-02, 0.00000000e+00, 0.00000000e+00, 0.00000000e+00,\n        0.00000000e+00, 0.00000000e+00, 0.00000000e+00, 0.00000000e+00,\n        0.00000000e+00, 0.00000000e+00, 0.00000000e+00, 0.00000000e+00,\n        0.00000000e+00, 0.00000000e+00, 3.24000000e-02, 1.22067449e-02,\n        0.00000000e+00, 5.66666667e-02, 1.03950948e-01, 1.15489186e-01,\n        4.84565650e-02, 0.00000000e+00, 3.74427481e-02, 5.17021277e-02,\n        1.80000000e-01, 1.61423841e-02, 4.59890803e-03, 0.00000000e+00,\n        2.13492451e-02, 3.91636638e-02, 4.35107109e-02, 1.82560780e-02,\n        0.00000000e+00, 1.41066072e-02, 1.94788482e-02, 6.78152493e-02,\n        6.08166557e-03, 0.00000000e+00, 0.00000000e+00, 0.00000000e+00,\n        0.00000000e+00, 0.00000000e+00, 0.00000000e+00, 0.00000000e+00,\n        0.00000000e+00, 0.00000000e+00, 0.00000000e+00, 9.91083676e-02,\n        1.81807214e-01, 2.01987260e-01, 8.47491364e-02, 0.00000000e+00,\n        6.54862878e-02, 9.04255319e-02, 3.14814815e-01, 2.82325648e-02,\n        3.33512336e-01, 3.70531187e-01, 1.55466231e-01, 0.00000000e+00,\n        1.20129913e-01, 1.65879173e-01, 5.77505269e-01, 5.17906215e-02,\n        4.11659018e-01, 1.72722508e-01, 0.00000000e+00, 1.33463966e-01,\n        1.84291255e-01, 6.41606591e-01, 5.75392224e-02, 7.24703301e-02,\n        0.00000000e+00, 5.59983629e-02, 7.73243059e-02, 2.69203139e-01,\n        2.41421137e-02, 0.00000000e+00, 0.00000000e+00, 0.00000000e+00,\n        0.00000000e+00, 0.00000000e+00, 4.32703514e-02, 5.97490661e-02,\n        2.08015267e-01, 1.86547908e-02, 8.25033952e-02, 2.87234043e-01,\n        2.57591236e-02, 1.00000000e+00, 8.96799117e-02, 8.04248656e-03],\n       [2.35922539e-04, 0.00000000e+00, 2.42302053e-01, 0.00000000e+00,\n        1.72839506e-01, 5.47997701e-01, 7.82698249e-01, 3.48961980e-01,\n        4.34782609e-02, 1.04961832e-01, 5.53191489e-01, 1.00000000e+00,\n        2.04470199e-01, 5.56594445e-08, 0.00000000e+00, 5.71645155e-05,\n        0.00000000e+00, 4.07767352e-05, 1.29285009e-04, 1.84656158e-04,\n        8.23279964e-05, 1.02575017e-05, 2.47628619e-05, 1.30510341e-04,\n        2.35922539e-04, 4.82391285e-05, 0.00000000e+00, 0.00000000e+00,\n        0.00000000e+00, 0.00000000e+00, 0.00000000e+00, 0.00000000e+00,\n        0.00000000e+00, 0.00000000e+00, 0.00000000e+00, 0.00000000e+00,\n        0.00000000e+00, 0.00000000e+00, 5.87102848e-02, 0.00000000e+00,\n        4.18793671e-02, 1.32780968e-01, 1.89649392e-01, 8.45542041e-02,\n        1.05348719e-02, 2.54324674e-02, 1.34039433e-01, 2.42302053e-01,\n        4.95435489e-02, 0.00000000e+00, 0.00000000e+00, 0.00000000e+00,\n        0.00000000e+00, 0.00000000e+00, 0.00000000e+00, 0.00000000e+00,\n        0.00000000e+00, 0.00000000e+00, 0.00000000e+00, 2.98734949e-02,\n        9.47156520e-02, 1.35281179e-01, 6.03144163e-02, 7.51476114e-03,\n        1.81415512e-02, 9.56133438e-02, 1.72839506e-01, 3.53405282e-02,\n        3.00301480e-01, 4.28916841e-01, 1.91230363e-01, 2.38259870e-02,\n        5.75188426e-02, 3.03147664e-01, 5.47997701e-01, 1.12049199e-01,\n        6.12616549e-01, 2.73131931e-01, 3.40303587e-02, 8.21534422e-02,\n        4.32982010e-01, 7.82698249e-01, 1.60038467e-01, 1.21774464e-01,\n        1.51722600e-02, 3.66276888e-02, 1.93042798e-01, 3.48961980e-01,\n        7.13523254e-02, 1.89035917e-03, 4.56355792e-03, 2.40518039e-02,\n        4.34782609e-02, 8.89000864e-03, 1.10169862e-02, 5.80639922e-02,\n        1.04961832e-01, 2.14615667e-02, 3.06020824e-01, 5.53191489e-01,\n        1.13111174e-01, 1.00000000e+00, 2.04470199e-01, 4.18080621e-02],\n       [2.35697744e-04, 0.00000000e+00, 2.42302053e-01, 0.00000000e+00,\n        1.72839506e-01, 6.94385898e-01, 5.99382080e-01, 3.48961980e-01,\n        4.34782609e-02, 1.04961832e-01, 5.53191489e-01, 9.89737254e-01,\n        6.34657837e-02, 5.55534265e-08, 0.00000000e+00, 5.71100472e-05,\n        0.00000000e+00, 4.07378817e-05, 1.63665190e-04, 1.41273004e-04,\n        8.22495515e-05, 1.02477280e-05, 2.47392670e-05, 1.30385986e-04,\n        2.33278838e-04, 1.49587420e-05, 0.00000000e+00, 0.00000000e+00,\n        0.00000000e+00, 0.00000000e+00, 0.00000000e+00, 0.00000000e+00,\n        0.00000000e+00, 0.00000000e+00, 0.00000000e+00, 0.00000000e+00,\n        0.00000000e+00, 0.00000000e+00, 5.87102848e-02, 0.00000000e+00,\n        4.18793671e-02, 1.68251128e-01, 1.45231508e-01, 8.45542041e-02,\n        1.05348719e-02, 2.54324674e-02, 1.34039433e-01, 2.39815368e-01,\n        1.53778897e-02, 0.00000000e+00, 0.00000000e+00, 0.00000000e+00,\n        0.00000000e+00, 0.00000000e+00, 0.00000000e+00, 0.00000000e+00,\n        0.00000000e+00, 0.00000000e+00, 0.00000000e+00, 2.98734949e-02,\n        1.20017316e-01, 1.03596903e-01, 6.03144163e-02, 7.51476114e-03,\n        1.81415512e-02, 9.56133438e-02, 1.71065698e-01, 1.09693947e-02,\n        4.82171775e-01, 4.16202464e-01, 2.42314278e-01, 3.01906912e-02,\n        7.28840160e-02, 3.84128369e-01, 6.87259591e-01, 4.40697452e-02,\n        3.59258878e-01, 2.09161558e-01, 2.60600904e-02, 6.29122413e-02,\n        3.31573066e-01, 5.93230774e-01, 3.80402534e-02, 1.21774464e-01,\n        1.51722600e-02, 3.66276888e-02, 1.93042798e-01, 3.45380672e-01,\n        2.21471455e-02, 1.89035917e-03, 4.56355792e-03, 2.40518039e-02,\n        4.30320545e-02, 2.75938190e-03, 1.10169862e-02, 5.80639922e-02,\n        1.03884635e-01, 6.66148493e-03, 3.06020824e-01, 5.47514225e-01,\n        3.51087314e-02, 9.79579831e-01, 6.28144504e-02, 4.02790570e-03],\n       [2.92795719e-04, 0.00000000e+00, 6.30498534e-02, 0.00000000e+00,\n        1.50205761e-01, 6.58555279e-01, 4.41812564e-01, 4.48544590e-01,\n        8.69565217e-02, 6.67938931e-02, 6.48936170e-01, 9.94276060e-01,\n        3.33885210e-02, 8.57293332e-08, 0.00000000e+00, 1.84607272e-05,\n        0.00000000e+00, 4.39796039e-05, 1.92822166e-04, 1.29360828e-04,\n        1.31331936e-04, 2.54604973e-05, 1.95569660e-05, 1.90005733e-04,\n        2.91119774e-04, 9.77601601e-06, 0.00000000e+00, 0.00000000e+00,\n        0.00000000e+00, 0.00000000e+00, 0.00000000e+00, 0.00000000e+00,\n        0.00000000e+00, 0.00000000e+00, 0.00000000e+00, 0.00000000e+00,\n        0.00000000e+00, 0.00000000e+00, 3.97528401e-03, 0.00000000e+00,\n        9.47045123e-03, 4.15218138e-02, 2.78562174e-02, 2.82806706e-02,\n        5.48259595e-03, 4.21134517e-03, 4.09153304e-02, 6.26889598e-02,\n        2.10514135e-03, 0.00000000e+00, 0.00000000e+00, 0.00000000e+00,\n        0.00000000e+00, 0.00000000e+00, 0.00000000e+00, 0.00000000e+00,\n        0.00000000e+00, 0.00000000e+00, 0.00000000e+00, 2.25617707e-02,\n        9.89187970e-02, 6.63627926e-02, 6.73739816e-02, 1.30613705e-02,\n        1.00328276e-02, 9.74739515e-02, 1.49345993e-01, 5.01514821e-03,\n        4.33695055e-01, 2.90957996e-01, 2.95391407e-01, 5.72656764e-02,\n        4.39874709e-02, 4.27360340e-01, 6.54785748e-01, 2.19881867e-02,\n        1.95198342e-01, 1.98172635e-01, 3.84184839e-02, 2.95103812e-02,\n        2.86708153e-01, 4.39283656e-01, 1.47514681e-02, 2.01192249e-01,\n        3.90038774e-02, 2.99600394e-02, 2.91076808e-01, 4.45977148e-01,\n        1.49762404e-02, 7.56143667e-03, 5.80816462e-03, 5.64292322e-02,\n        8.64587879e-02, 2.90334965e-03, 4.46142416e-03, 4.33449732e-02,\n        6.64115689e-02, 2.23014930e-03, 4.21118153e-01, 6.45221699e-01,\n        2.16670189e-02, 9.88584884e-01, 3.31974071e-02, 1.11479333e-03],\n       [7.05070075e-04, 0.00000000e+00, 6.30498534e-02, 0.00000000e+00,\n        1.50205761e-01, 6.87104809e-01, 5.28321318e-01, 4.48544590e-01,\n        8.69565217e-02, 6.67938931e-02, 6.48936170e-01, 1.00000000e+00,\n        9.93377483e-02, 4.97123811e-07, 0.00000000e+00, 4.44545649e-05,\n        0.00000000e+00, 1.05905587e-04, 4.84457040e-04, 3.72503552e-04,\n        3.16255368e-04, 6.13104413e-05, 4.70943753e-05, 4.57545474e-04,\n        7.05070075e-04, 7.00400737e-05, 0.00000000e+00, 0.00000000e+00,\n        0.00000000e+00, 0.00000000e+00, 0.00000000e+00, 0.00000000e+00,\n        0.00000000e+00, 0.00000000e+00, 0.00000000e+00, 0.00000000e+00,\n        0.00000000e+00, 0.00000000e+00, 3.97528401e-03, 0.00000000e+00,\n        9.47045123e-03, 4.33218575e-02, 3.33105816e-02, 2.82806706e-02,\n        5.48259595e-03, 4.21134517e-03, 4.09153304e-02, 6.30498534e-02,\n        6.26323047e-03, 0.00000000e+00, 0.00000000e+00, 0.00000000e+00,\n        0.00000000e+00, 0.00000000e+00, 0.00000000e+00, 0.00000000e+00,\n        0.00000000e+00, 0.00000000e+00, 0.00000000e+00, 2.25617707e-02,\n        1.03207101e-01, 7.93569058e-02, 6.73739816e-02, 1.30613705e-02,\n        1.00328276e-02, 9.74739515e-02, 1.50205761e-01, 1.49211021e-02,\n        4.72113019e-01, 3.63012119e-01, 3.08197145e-01, 5.97482443e-02,\n        4.58944052e-02, 4.45887164e-01, 6.87104809e-01, 6.82554446e-02,\n        2.79123415e-01, 2.36975669e-01, 4.59409842e-02, 3.52886377e-02,\n        3.42846813e-01, 5.28321318e-01, 5.24822502e-02, 2.01192249e-01,\n        3.90038774e-02, 2.99600394e-02, 2.91076808e-01, 4.48544590e-01,\n        4.45574096e-02, 7.56143667e-03, 5.80816462e-03, 5.64292322e-02,\n        8.69565217e-02, 8.63806507e-03, 4.46142416e-03, 4.33449732e-02,\n        6.67938931e-02, 6.63515495e-03, 4.21118153e-01, 6.48936170e-01,\n        6.44638580e-02, 1.00000000e+00, 9.93377483e-02, 9.86798825e-03]])"
     },
     "execution_count": 15,
     "metadata": {},
     "output_type": "execute_result"
    }
   ],
   "source": [
    "X[:5]"
   ],
   "metadata": {
    "collapsed": false,
    "pycharm": {
     "name": "#%%\n"
    }
   }
  },
  {
   "cell_type": "markdown",
   "source": [
    "## Split Dataset into Train and Test"
   ],
   "metadata": {
    "collapsed": false,
    "pycharm": {
     "name": "#%% md\n"
    }
   }
  },
  {
   "cell_type": "code",
   "execution_count": 16,
   "outputs": [
    {
     "name": "stdout",
     "output_type": "stream",
     "text": [
      "X_train shape:  (379, 104)\n",
      "y_train shape:  (379,)\n",
      "X_test shape:  (127, 104)\n",
      "y_test shape:  (127,)\n"
     ]
    }
   ],
   "source": [
    "from sklearn.model_selection import train_test_split\n",
    "\n",
    "X_train, X_test, y_train, y_test = train_test_split(X, y, random_state=0)\n",
    "print('X_train shape: ', X_train.shape)\n",
    "print('y_train shape: ', y_train.shape)\n",
    "print('X_test shape: ', X_test.shape)\n",
    "print('y_test shape: ', y_test.shape)"
   ],
   "metadata": {
    "collapsed": false,
    "pycharm": {
     "name": "#%%\n"
    }
   }
  },
  {
   "cell_type": "markdown",
   "source": [
    "## Train and Evaluate Model"
   ],
   "metadata": {
    "collapsed": false,
    "pycharm": {
     "name": "#%% md\n"
    }
   }
  },
  {
   "cell_type": "markdown",
   "source": [
    "## Linear Regression"
   ],
   "metadata": {
    "collapsed": false,
    "pycharm": {
     "name": "#%% md\n"
    }
   }
  },
  {
   "cell_type": "code",
   "execution_count": 17,
   "outputs": [
    {
     "name": "stdout",
     "output_type": "stream",
     "text": [
      "Training set score: 0.95\n",
      "Test set score: 0.61\n"
     ]
    }
   ],
   "source": [
    "from sklearn.linear_model import LinearRegression\n",
    "\n",
    "linear_model = LinearRegression()\n",
    "linear_model.fit(X_train, y_train)\n",
    "\n",
    "print(\"Training set score: {:.2f}\".format(linear_model.score(X_train, y_train)))\n",
    "print(\"Test set score: {:.2f}\".format(linear_model.score(X_test, y_test)))"
   ],
   "metadata": {
    "collapsed": false,
    "pycharm": {
     "name": "#%%\n"
    }
   }
  },
  {
   "cell_type": "markdown",
   "source": [
    "## Ridge Regression"
   ],
   "metadata": {
    "collapsed": false,
    "pycharm": {
     "name": "#%% md\n"
    }
   }
  },
  {
   "cell_type": "code",
   "execution_count": 18,
   "outputs": [
    {
     "name": "stdout",
     "output_type": "stream",
     "text": [
      "Training set score: 0.89\n",
      "Test set score: 0.75\n"
     ]
    }
   ],
   "source": [
    "from sklearn.linear_model import Ridge\n",
    "\n",
    "ridge_model1 = Ridge(alpha=1)\n",
    "ridge_model1.fit(X_train, y_train)\n",
    "\n",
    "print(\"Training set score: {:.2f}\".format(ridge_model1.score(X_train, y_train)))\n",
    "print(\"Test set score: {:.2f}\".format(ridge_model1.score(X_test, y_test)))"
   ],
   "metadata": {
    "collapsed": false,
    "pycharm": {
     "name": "#%%\n"
    }
   }
  },
  {
   "cell_type": "code",
   "execution_count": 19,
   "outputs": [
    {
     "name": "stdout",
     "output_type": "stream",
     "text": [
      "Training set score: 0.79\n",
      "Test set score: 0.64\n"
     ]
    }
   ],
   "source": [
    "ridge_model10 = Ridge(alpha=10)\n",
    "ridge_model10.fit(X_train, y_train)\n",
    "\n",
    "print(\"Training set score: {:.2f}\".format(ridge_model10.score(X_train, y_train)))\n",
    "print(\"Test set score: {:.2f}\".format(ridge_model10.score(X_test, y_test)))"
   ],
   "metadata": {
    "collapsed": false,
    "pycharm": {
     "name": "#%%\n"
    }
   }
  },
  {
   "cell_type": "code",
   "execution_count": 20,
   "outputs": [
    {
     "name": "stdout",
     "output_type": "stream",
     "text": [
      "Training set score: 0.93\n",
      "Test set score: 0.77\n"
     ]
    }
   ],
   "source": [
    "ridge_model01 = Ridge(alpha=0.1)\n",
    "ridge_model01.fit(X_train, y_train)\n",
    "\n",
    "print(\"Training set score: {:.2f}\".format(ridge_model01.score(X_train, y_train)))\n",
    "print(\"Test set score: {:.2f}\".format(ridge_model01.score(X_test, y_test)))"
   ],
   "metadata": {
    "collapsed": false,
    "pycharm": {
     "name": "#%%\n"
    }
   }
  },
  {
   "cell_type": "code",
   "execution_count": 26,
   "outputs": [
    {
     "data": {
      "text/plain": "<matplotlib.legend.Legend at 0x230b8933ac0>"
     },
     "execution_count": 26,
     "metadata": {},
     "output_type": "execute_result"
    },
    {
     "data": {
      "text/plain": "<Figure size 432x288 with 1 Axes>",
      "image/png": "[encoded data removed]"
     },
     "metadata": {
      "needs_background": "light"
     },
     "output_type": "display_data"
    }
   ],
   "source": [
    "from matplotlib import pyplot as plt\n",
    "\n",
    "plt.plot(ridge_model1.coef_, 's', label=\"Ridge alpha=1\")\n",
    "plt.plot(ridge_model10.coef_, '^', label=\"Ridge alpha=10\")\n",
    "plt.plot(ridge_model01.coef_, 'v', label=\"Ridge alpha=0.1\")\n",
    "plt.plot(linear_model.coef_, 'o', label=\"LinearRegression\")\n",
    "\n",
    "xlims = plt.xlim()\n",
    "plt.hlines(0, xlims[0], xlims[1])\n",
    "plt.xlim(xlims)\n",
    "plt.ylim(-25, 25)\n",
    "plt.xlabel(\"Coefficient index\")\n",
    "plt.ylabel(\"Coefficient magnitude\")\n",
    "plt.legend()"
   ],
   "metadata": {
    "collapsed": false,
    "pycharm": {
     "name": "#%%\n"
    }
   }
  },
  {
   "cell_type": "markdown",
   "source": [
    "## Lasso Regression"
   ],
   "metadata": {
    "collapsed": false,
    "pycharm": {
     "name": "#%% md\n"
    }
   }
  },
  {
   "cell_type": "code",
   "execution_count": 22,
   "outputs": [
    {
     "name": "stdout",
     "output_type": "stream",
     "text": [
      "Training set score: 0.29\n",
      "Test set score: 0.21\n",
      "Number of features used: 4\n"
     ]
    }
   ],
   "source": [
    "import numpy as np\n",
    "from sklearn.linear_model import Lasso\n",
    "\n",
    "lasso_model = Lasso(alpha=1.0)\n",
    "lasso_model.fit(X_train, y_train)\n",
    "\n",
    "print(\"Training set score: {:.2f}\".format(lasso_model.score(X_train, y_train)))\n",
    "print(\"Test set score: {:.2f}\".format(lasso_model.score(X_test, y_test)))\n",
    "print(\"Number of features used: {}\".format(np.sum(lasso_model.coef_ != 0)))"
   ],
   "metadata": {
    "collapsed": false,
    "pycharm": {
     "name": "#%%\n"
    }
   }
  },
  {
   "cell_type": "code",
   "execution_count": 24,
   "outputs": [
    {
     "name": "stdout",
     "output_type": "stream",
     "text": [
      "Training set score: 0.90\n",
      "Test set score: 0.77\n",
      "Number of features used: 33\n"
     ]
    }
   ],
   "source": [
    "lasso_model001 = Lasso(alpha=0.01, max_iter=100000)\n",
    "lasso_model001.fit(X_train, y_train)\n",
    "\n",
    "print(\"Training set score: {:.2f}\".format(lasso_model001.score(X_train, y_train)))\n",
    "print(\"Test set score: {:.2f}\".format(lasso_model001.score(X_test, y_test)))\n",
    "print(\"Number of features used: {}\".format(np.sum(lasso_model001.coef_ != 0)))"
   ],
   "metadata": {
    "collapsed": false,
    "pycharm": {
     "name": "#%%\n"
    }
   }
  },
  {
   "cell_type": "code",
   "execution_count": 25,
   "outputs": [
    {
     "name": "stdout",
     "output_type": "stream",
     "text": [
      "Training set score: 0.95\n",
      "Test set score: 0.64\n",
      "Number of features used: 96\n"
     ]
    }
   ],
   "source": [
    "lasso_model00001 = Lasso(alpha=0.0001, max_iter=100000)\n",
    "lasso_model00001.fit(X_train, y_train)\n",
    "\n",
    "print(\"Training set score: {:.2f}\".format(lasso_model00001.score(X_train, y_train)))\n",
    "print(\"Test set score: {:.2f}\".format(lasso_model00001.score(X_test, y_test)))\n",
    "print(\"Number of features used: {}\".format(np.sum(lasso_model00001.coef_ != 0)))"
   ],
   "metadata": {
    "collapsed": false,
    "pycharm": {
     "name": "#%%\n"
    }
   }
  },
  {
   "cell_type": "code",
   "execution_count": 32,
   "outputs": [
    {
     "data": {
      "text/plain": "<matplotlib.legend.Legend at 0x230b8a48220>"
     },
     "execution_count": 32,
     "metadata": {},
     "output_type": "execute_result"
    },
    {
     "data": {
      "text/plain": "<Figure size 432x288 with 1 Axes>",
      "image/png": "[encoded data removed]"
     },
     "metadata": {
      "needs_background": "light"
     },
     "output_type": "display_data"
    }
   ],
   "source": [
    "from matplotlib import pyplot as plt\n",
    "\n",
    "plt.plot(lasso_model.coef_, 's', label=\"Lasso alpha=1\")\n",
    "plt.plot(lasso_model001.coef_, '^', label=\"Lasso alpha=0.01\")\n",
    "plt.plot(lasso_model00001.coef_, 'v', label=\"Lasso alpha=0.0001\")\n",
    "plt.plot(ridge_model01.coef_, 'o', label=\"Ridge alpha=0.1\")\n",
    "\n",
    "plt.ylim(-25, 25)\n",
    "plt.xlabel(\"Coefficient index\")\n",
    "plt.ylabel(\"Coefficient magnitude\")\n",
    "plt.legend(ncol=2, loc=(0, 1.05))"
   ],
   "metadata": {
    "collapsed": false,
    "pycharm": {
     "name": "#%%\n"
    }
   }
  }
 ],
 "metadata": {
  "kernelspec": {
   "display_name": "Python 3",
   "language": "python",
   "name": "python3"
  },
  "language_info": {
   "codemirror_mode": {
    "name": "ipython",
    "version": 2
   },
   "file_extension": ".py",
   "mimetype": "text/x-python",
   "name": "python",
   "nbconvert_exporter": "python",
   "pygments_lexer": "ipython2",
   "version": "2.7.6"
  }
 },
 "nbformat": 4,
 "nbformat_minor": 0
}